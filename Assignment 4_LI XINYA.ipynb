{
 "cells": [
  {
   "cell_type": "markdown",
   "metadata": {},
   "source": [
    "# Assignment 4_LI XINYA"
   ]
  },
  {
   "cell_type": "markdown",
   "metadata": {},
   "source": [
    "## Import the libraries"
   ]
  },
  {
   "cell_type": "code",
   "execution_count": 2,
   "metadata": {},
   "outputs": [
    {
     "data": {
      "text/plain": [
       "device(type='cpu')"
      ]
     },
     "execution_count": 2,
     "metadata": {},
     "output_type": "execute_result"
    }
   ],
   "source": [
    "import pandas as pd\n",
    "import numpy as np\n",
    "import os\n",
    "import glob\n",
    "import random\n",
    "import shutil\n",
    "from shutil import copy2\n",
    "import torch\n",
    "import torchvision\n",
    "import torchvision.transforms as transforms\n",
    "import torch.nn as nn\n",
    "import torch.nn.functional as F\n",
    "from torch.utils.data import DataLoader\n",
    "import seaborn as sns\n",
    "import matplotlib.pyplot as plt\n",
    "\n",
    "device = torch.device('cuda:0' if torch.cuda.is_available() else 'cpu')\n",
    "device"
   ]
  },
  {
   "cell_type": "markdown",
   "metadata": {},
   "source": [
    "## Generate the label file, split datasets"
   ]
  },
  {
   "cell_type": "code",
   "execution_count": 3,
   "metadata": {},
   "outputs": [],
   "source": [
    " def data_set_split(src_data_folder, target_data_folder, train_scale=0.8, val_scale=0.2):\n",
    "        \n",
    "    class_names = os.listdir(src_data_folder)\n",
    "    split_names = ['train', 'val']\n",
    "    for split_name in split_names:\n",
    "        split_path = os.path.join(target_data_folder, split_name)\n",
    "        if os.path.isdir(split_path):\n",
    "            pass\n",
    "        else:\n",
    "            os.mkdir(split_path)\n",
    "        \n",
    "        for class_name in class_names:\n",
    "            class_split_path = os.path.join(split_path, class_name)\n",
    "            if os.path.isdir(class_split_path):\n",
    "                pass\n",
    "            else:\n",
    "                os.mkdir(class_split_path)\n",
    "\n",
    "    for class_name in class_names:\n",
    "        current_class_data_path = os.path.join(src_data_folder, class_name)\n",
    "        current_all_data = os.listdir(current_class_data_path)\n",
    "        current_data_length = len(current_all_data)\n",
    "        current_data_index_list = list(range(current_data_length))\n",
    "        random.shuffle(current_data_index_list)\n",
    "\n",
    "        train_folder = os.path.join(os.path.join(target_data_folder, 'train'), class_name)\n",
    "        val_folder = os.path.join(os.path.join(target_data_folder, 'val'), class_name)\n",
    "        train_stop_flag = current_data_length * train_scale\n",
    "        val_stop_flag = current_data_length * (train_scale + val_scale)\n",
    "        current_idx = 0\n",
    "        train_num = 0\n",
    "        val_num = 0\n",
    "        for i in current_data_index_list:\n",
    "            src_img_path = os.path.join(current_class_data_path, current_all_data[i])\n",
    "            if current_idx <= train_stop_flag:\n",
    "                copy2(src_img_path, train_folder)\n",
    "                train_num = train_num + 1\n",
    "            elif (current_idx > train_stop_flag) and (current_idx <= val_stop_flag):\n",
    "                copy2(src_img_path, val_folder)\n",
    "                val_num = val_num + 1\n",
    "\n",
    "            current_idx = current_idx + 1\n",
    "\n",
    "src_data_folder = \"C:/Users/ameli/Desktop/semester 2/07/Assignment 4/BS6207-assignment4/src_data\"\n",
    "target_data_folder = \"C:/Users/ameli/Desktop/semester 2/07/Assignment 4/BS6207-assignment4/target_data\"\n",
    "data_set_split(src_data_folder, target_data_folder)"
   ]
  },
  {
   "cell_type": "markdown",
   "metadata": {},
   "source": [
    "## Load the datasets, do the preprocessing"
   ]
  },
  {
   "cell_type": "code",
   "execution_count": 4,
   "metadata": {},
   "outputs": [],
   "source": [
    "preprocess = torchvision.transforms.Compose([transforms.ToTensor(),transforms.Normalize((0.5,0.5,0.5),(0.5,0.5,0.5))])"
   ]
  },
  {
   "cell_type": "code",
   "execution_count": 5,
   "metadata": {},
   "outputs": [],
   "source": [
    "train_dataset =torchvision.datasets.ImageFolder(root='target_data/train',transform=preprocess)\n",
    "train_loader =DataLoader(train_dataset,batch_size=32, shuffle=True)\n",
    "\n",
    "val_dataset =torchvision.datasets.ImageFolder(root='target_data/val',transform=preprocess)\n",
    "val_loader =DataLoader(train_dataset,batch_size=32, shuffle=True)\n",
    "\n",
    "test_dataset =torchvision.datasets.ImageFolder(root='target_data/test',transform=preprocess)\n",
    "test_loader =DataLoader(train_dataset,batch_size=32, shuffle=True)\n",
    "\n",
    "labels = ['artifacts', 'cancer', 'normal', 'other']"
   ]
  },
  {
   "cell_type": "markdown",
   "metadata": {},
   "source": [
    "## Build a CNN"
   ]
  },
  {
   "cell_type": "code",
   "execution_count": 6,
   "metadata": {},
   "outputs": [],
   "source": [
    "epoches = 10\n",
    "lr = 0.001\n",
    "weight_decay=0\n",
    "batch_size=32\n",
    "\n",
    "class CNN(nn.Module):\n",
    "    def __init__(self):\n",
    "        super(CNN,self).__init__()\n",
    "        \n",
    "        # the first layer\n",
    "        self.conv1 = nn.Conv2d(in_channels = 3, out_channels = 64, kernel_size = 3, padding=1, stride=2)\n",
    "        self.pool1 = nn.MaxPool2d(2, 2)\n",
    "        \n",
    "        # the second layer\n",
    "        self.conv2 = nn.Conv2d(in_channels = 64, out_channels = 128, kernel_size = 3, padding=1, stride=2)\n",
    "        self.pool2 = nn.MaxPool2d(2, 2)\n",
    "        \n",
    "        # the third layer\n",
    "        self.conv3 = nn.Conv2d(in_channels = 128, out_channels = 256, kernel_size = 3, padding=1, stride=2)\n",
    "        self.pool3 = nn.MaxPool2d(2, 2)\n",
    "        \n",
    "        # the output layer\n",
    "        self.output1 = nn.Linear(in_features=1024, out_features=512)\n",
    "        self.dropout = nn.Dropout(p=0.2)\n",
    "        self.output2 = nn.Linear(in_features=512, out_features=4)\n",
    "        \n",
    "        \n",
    "    def forward(self, x):\n",
    "        \n",
    "        # the first layer\n",
    "        x = self.conv1(x)\n",
    "        x = F.relu(x)\n",
    "        x = self.pool1(x)\n",
    "        \n",
    "        # the second layer\n",
    "        x = self.conv2(x)\n",
    "        x = F.relu(x)\n",
    "        x = self.pool2(x)\n",
    "        \n",
    "        # the third layer\n",
    "        x = self.conv3(x)\n",
    "        x = F.relu(x)\n",
    "        x = self.pool3(x)\n",
    "        \n",
    "        # the output layer\n",
    "        x = torch.flatten(x,1)\n",
    "        x = F.relu(self.output1(x))\n",
    "        x = self.dropout(x)\n",
    "        output = self.output2(x)\n",
    "        \n",
    "        return output"
   ]
  },
  {
   "cell_type": "code",
   "execution_count": 7,
   "metadata": {},
   "outputs": [
    {
     "name": "stdout",
     "output_type": "stream",
     "text": [
      "CNN(\n",
      "  (conv1): Conv2d(3, 64, kernel_size=(3, 3), stride=(2, 2), padding=(1, 1))\n",
      "  (pool1): MaxPool2d(kernel_size=2, stride=2, padding=0, dilation=1, ceil_mode=False)\n",
      "  (conv2): Conv2d(64, 128, kernel_size=(3, 3), stride=(2, 2), padding=(1, 1))\n",
      "  (pool2): MaxPool2d(kernel_size=2, stride=2, padding=0, dilation=1, ceil_mode=False)\n",
      "  (conv3): Conv2d(128, 256, kernel_size=(3, 3), stride=(2, 2), padding=(1, 1))\n",
      "  (pool3): MaxPool2d(kernel_size=2, stride=2, padding=0, dilation=1, ceil_mode=False)\n",
      "  (output1): Linear(in_features=1024, out_features=512, bias=True)\n",
      "  (dropout): Dropout(p=0.2, inplace=False)\n",
      "  (output2): Linear(in_features=512, out_features=4, bias=True)\n",
      ")\n"
     ]
    }
   ],
   "source": [
    "cnn = CNN()\n",
    "print(cnn)"
   ]
  },
  {
   "cell_type": "code",
   "execution_count": 7,
   "metadata": {},
   "outputs": [
    {
     "name": "stdout",
     "output_type": "stream",
     "text": [
      "Processing the 0 epoch\n",
      "epoch0 :validation loss: 0.44124635770553494, validation accuracy: 0.8379537448307551\n",
      "Processing the 1 epoch\n",
      "epoch1 :validation loss: 0.33224927739399235, validation accuracy: 0.8816051462704855\n",
      "Processing the 2 epoch\n",
      "epoch2 :validation loss: 0.2231911449397846, validation accuracy: 0.9156072905498545\n",
      "Processing the 3 epoch\n",
      "epoch3 :validation loss: 0.11316911774437602, validation accuracy: 0.960637157298208\n",
      "Processing the 4 epoch\n",
      "epoch4 :validation loss: 0.1496759559983308, validation accuracy: 0.9451677132792158\n",
      "Processing the 5 epoch\n",
      "epoch5 :validation loss: 0.061764819631573514, validation accuracy: 0.9796293459947925\n",
      "Processing the 6 epoch\n",
      "epoch6 :validation loss: 0.08192057683382456, validation accuracy: 0.9695206003982233\n",
      "Processing the 7 epoch\n",
      "epoch7 :validation loss: 0.08214488843364273, validation accuracy: 0.9693674375861541\n",
      "Processing the 8 epoch\n",
      "epoch8 :validation loss: 0.0438032423930364, validation accuracy: 0.9840710675448001\n",
      "Processing the 9 epoch\n",
      "epoch9 :validation loss: 0.02996016971642015, validation accuracy: 0.9908102312758462\n"
     ]
    }
   ],
   "source": [
    "import torch.optim as optim\n",
    "# Define optimizer and loss function\n",
    "optimizer = optim.Adam(cnn.parameters(), lr=lr)\n",
    "loss_function = nn.CrossEntropyLoss()\n",
    "optimizer_name = 'Adam'\n",
    "\n",
    "best_val_acc = 0\n",
    "patience = 0\n",
    "train_running_loss = 0.0\n",
    "PATH = 'model/'+'batchsize'+str(batch_size)+'_'+optimizer_name+'_lr'+str(lr)+'_weightDecay'+str(weight_decay)+'.pth'\n",
    "\n",
    "\n",
    "for epoch in range(epoches):\n",
    "    print('Processing the {} epoch'.format(epoch))\n",
    "    loss = 0\n",
    "    for i, data in enumerate(train_loader, 0):\n",
    "        inputs, labels = data\n",
    "        inputs = inputs.to(device)\n",
    "        labels = labels.to(device)\n",
    "        optimizer.zero_grad()\n",
    "\n",
    "        outputs = cnn(inputs)\n",
    "        loss = loss_function(outputs, labels)\n",
    "        loss.backward()\n",
    "        optimizer.step()\n",
    "\n",
    "        train_running_loss += loss.item()\n",
    "    \n",
    "    val_running_loss = 0.0\n",
    "    correct = 0\n",
    "    total = 0\n",
    "    with torch.no_grad():\n",
    "        for data in val_loader:\n",
    "            images, labels = data\n",
    "            images = images.to(device)\n",
    "            labels = labels.to(device)\n",
    "            outputs = cnn(images)\n",
    "            loss = loss_function(outputs, labels)\n",
    "            val_running_loss += loss.item()\n",
    "            _, predicted = torch.max(outputs.data, 1)\n",
    "            total += labels.size(0)\n",
    "            correct += (predicted == labels).sum().item()\n",
    "            \n",
    "    cur_val_acc = correct / total\n",
    "    if cur_val_acc > best_val_acc:\n",
    "        best_val_acc = cur_val_acc\n",
    "        torch.save(cnn.state_dict(), PATH)\n",
    "        patience = 0\n",
    "    else:\n",
    "        patience+=1\n",
    "        \n",
    "    if patience == 10:\n",
    "        print('Model is overfit!')\n",
    "        break\n",
    "        \n",
    "    print('epoch' + str(epoch) + ' :validation loss: '+str(val_running_loss/len(val_loader))+', validation accuracy: '+ str(correct / total))"
   ]
  },
  {
   "cell_type": "markdown",
   "metadata": {},
   "source": [
    "## After run the above cnn several times with different batch size, put the validation result into csv file."
   ]
  },
  {
   "cell_type": "code",
   "execution_count": 8,
   "metadata": {},
   "outputs": [
    {
     "data": {
      "text/html": [
       "<div>\n",
       "<style scoped>\n",
       "    .dataframe tbody tr th:only-of-type {\n",
       "        vertical-align: middle;\n",
       "    }\n",
       "\n",
       "    .dataframe tbody tr th {\n",
       "        vertical-align: top;\n",
       "    }\n",
       "\n",
       "    .dataframe thead th {\n",
       "        text-align: right;\n",
       "    }\n",
       "</style>\n",
       "<table border=\"1\" class=\"dataframe\">\n",
       "  <thead>\n",
       "    <tr style=\"text-align: right;\">\n",
       "      <th></th>\n",
       "      <th>16</th>\n",
       "      <th>32</th>\n",
       "      <th>64</th>\n",
       "      <th>128</th>\n",
       "    </tr>\n",
       "  </thead>\n",
       "  <tbody>\n",
       "    <tr>\n",
       "      <th>1</th>\n",
       "      <td>0.623</td>\n",
       "      <td>0.656</td>\n",
       "      <td>0.849</td>\n",
       "      <td>0.783</td>\n",
       "    </tr>\n",
       "    <tr>\n",
       "      <th>2</th>\n",
       "      <td>0.678</td>\n",
       "      <td>0.687</td>\n",
       "      <td>0.892</td>\n",
       "      <td>0.786</td>\n",
       "    </tr>\n",
       "    <tr>\n",
       "      <th>3</th>\n",
       "      <td>0.784</td>\n",
       "      <td>0.754</td>\n",
       "      <td>0.948</td>\n",
       "      <td>0.823</td>\n",
       "    </tr>\n",
       "    <tr>\n",
       "      <th>4</th>\n",
       "      <td>0.763</td>\n",
       "      <td>0.798</td>\n",
       "      <td>0.955</td>\n",
       "      <td>0.876</td>\n",
       "    </tr>\n",
       "    <tr>\n",
       "      <th>5</th>\n",
       "      <td>0.721</td>\n",
       "      <td>0.812</td>\n",
       "      <td>0.965</td>\n",
       "      <td>0.899</td>\n",
       "    </tr>\n",
       "    <tr>\n",
       "      <th>6</th>\n",
       "      <td>0.885</td>\n",
       "      <td>0.823</td>\n",
       "      <td>0.978</td>\n",
       "      <td>0.902</td>\n",
       "    </tr>\n",
       "    <tr>\n",
       "      <th>7</th>\n",
       "      <td>0.832</td>\n",
       "      <td>0.856</td>\n",
       "      <td>0.982</td>\n",
       "      <td>0.890</td>\n",
       "    </tr>\n",
       "    <tr>\n",
       "      <th>8</th>\n",
       "      <td>0.901</td>\n",
       "      <td>0.899</td>\n",
       "      <td>0.989</td>\n",
       "      <td>0.925</td>\n",
       "    </tr>\n",
       "    <tr>\n",
       "      <th>9</th>\n",
       "      <td>0.911</td>\n",
       "      <td>0.899</td>\n",
       "      <td>0.977</td>\n",
       "      <td>0.913</td>\n",
       "    </tr>\n",
       "    <tr>\n",
       "      <th>10</th>\n",
       "      <td>0.896</td>\n",
       "      <td>0.900</td>\n",
       "      <td>0.982</td>\n",
       "      <td>0.932</td>\n",
       "    </tr>\n",
       "  </tbody>\n",
       "</table>\n",
       "</div>"
      ],
      "text/plain": [
       "       16     32     64    128\n",
       "1   0.623  0.656  0.849  0.783\n",
       "2   0.678  0.687  0.892  0.786\n",
       "3   0.784  0.754  0.948  0.823\n",
       "4   0.763  0.798  0.955  0.876\n",
       "5   0.721  0.812  0.965  0.899\n",
       "6   0.885  0.823  0.978  0.902\n",
       "7   0.832  0.856  0.982  0.890\n",
       "8   0.901  0.899  0.989  0.925\n",
       "9   0.911  0.899  0.977  0.913\n",
       "10  0.896  0.900  0.982  0.932"
      ]
     },
     "execution_count": 8,
     "metadata": {},
     "output_type": "execute_result"
    }
   ],
   "source": [
    "Batch_size = pd.read_csv('Batch size.csv',index_col = 0, header = 0)\n",
    "Batch_size"
   ]
  },
  {
   "attachments": {
    "image.png": {
     "image/png": "[encoded data removed]"
    }
   },
   "cell_type": "markdown",
   "metadata": {},
   "source": [
    "![image.png](attachment:image.png)"
   ]
  },
  {
   "cell_type": "code",
   "execution_count": 12,
   "metadata": {},
   "outputs": [
    {
     "name": "stdout",
     "output_type": "stream",
     "text": [
      "Accuracy: 98.92786031551539\n"
     ]
    }
   ],
   "source": [
    "PATH = 'model/batchsize64_Adam_lr0.001_weightDecay0.pth'\n",
    "net = CNN()\n",
    "net.load_state_dict(torch.load(PATH))\n",
    "\n",
    "correct = 0\n",
    "total = 0\n",
    "\n",
    "with torch.no_grad():\n",
    "    for data in test_loader:\n",
    "        images, labels = data\n",
    "        outputs = net(images)\n",
    "        _, predicted = torch.max(outputs.data, 1)\n",
    "        total += labels.size(0)\n",
    "        correct += (predicted == labels).sum().item()\n",
    "\n",
    "print('Accuracy: '+ str(100 * correct / total))"
   ]
  },
  {
   "cell_type": "code",
   "execution_count": null,
   "metadata": {},
   "outputs": [],
   "source": []
  }
 ],
 "metadata": {
  "kernelspec": {
   "display_name": "Python 3",
   "language": "python",
   "name": "python3"
  },
  "language_info": {
   "codemirror_mode": {
    "name": "ipython",
    "version": 3
   },
   "file_extension": ".py",
   "mimetype": "text/x-python",
   "name": "python",
   "nbconvert_exporter": "python",
   "pygments_lexer": "ipython3",
   "version": "3.8.5"
  }
 },
 "nbformat": 4,
 "nbformat_minor": 4
}
