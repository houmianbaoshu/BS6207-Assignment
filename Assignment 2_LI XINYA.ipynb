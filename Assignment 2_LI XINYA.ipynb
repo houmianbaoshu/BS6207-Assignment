{
 "cells": [
  {
   "cell_type": "code",
   "execution_count": 1,
   "metadata": {},
   "outputs": [],
   "source": [
    "import numpy as np"
   ]
  },
  {
   "cell_type": "code",
   "execution_count": 10,
   "metadata": {},
   "outputs": [
    {
     "name": "stdout",
     "output_type": "stream",
     "text": [
      "0.41019999999998896\n"
     ]
    }
   ],
   "source": [
    "def gradient(w,h):\n",
    "    if w<1:\n",
    "        return -1\n",
    "    elif 1<=w<(1+h):\n",
    "        return 1\n",
    "    else:\n",
    "        return -1\n",
    "num_steps=100000\n",
    "for h in np.arange(0.31,1,0.0001):\n",
    "    w=0\n",
    "    moment1=0\n",
    "    moment2=0\n",
    "    beta1=0.9\n",
    "    beta2=0.999\n",
    "    lr=0.3\n",
    "    for t in range(1,num_steps):\n",
    "        beta1=0.9\n",
    "        beta2=0.999\n",
    "        lr=0.3\n",
    "        dw=gradient(w,h)\n",
    "        moment1=beta1*moment1+(1-beta1)*dw\n",
    "        moment2=beta2*moment2+(1-beta2)*dw*dw\n",
    "        moment1_unbias=moment1/(1-beta1**t)\n",
    "        moment2_unbias=moment2/(1-beta2**t)\n",
    "        w-= lr*moment1_unbias/(np.sqrt(moment2_unbias))\n",
    "        if w>(1+h):\n",
    "            break\n",
    "    if w<(1+h):\n",
    "        print(h)\n",
    "        break"
   ]
  },
  {
   "cell_type": "code",
   "execution_count": null,
   "metadata": {},
   "outputs": [],
   "source": []
  }
 ],
 "metadata": {
  "kernelspec": {
   "display_name": "Python 3",
   "language": "python",
   "name": "python3"
  },
  "language_info": {
   "codemirror_mode": {
    "name": "ipython",
    "version": 3
   },
   "file_extension": ".py",
   "mimetype": "text/x-python",
   "name": "python",
   "nbconvert_exporter": "python",
   "pygments_lexer": "ipython3",
   "version": "3.8.5"
  }
 },
 "nbformat": 4,
 "nbformat_minor": 4
}
